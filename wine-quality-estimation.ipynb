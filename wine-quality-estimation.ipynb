{
 "cells": [
  {
   "cell_type": "markdown",
   "id": "9aa90a39",
   "metadata": {
    "papermill": {
     "duration": 0.011019,
     "end_time": "2024-07-29T18:13:39.813280",
     "exception": false,
     "start_time": "2024-07-29T18:13:39.802261",
     "status": "completed"
    },
    "tags": []
   },
   "source": [
    "## Import libraries"
   ]
  },
  {
   "cell_type": "code",
   "execution_count": 1,
   "id": "62506075",
   "metadata": {
    "_cell_guid": "b1076dfc-b9ad-4769-8c92-a6c4dae69d19",
    "_uuid": "8f2839f25d086af736a60e9eeb907d3b93b6e0e5",
    "execution": {
     "iopub.execute_input": "2024-07-29T18:13:39.836440Z",
     "iopub.status.busy": "2024-07-29T18:13:39.835980Z",
     "iopub.status.idle": "2024-07-29T18:13:43.339834Z",
     "shell.execute_reply": "2024-07-29T18:13:43.338680Z"
    },
    "papermill": {
     "duration": 3.518993,
     "end_time": "2024-07-29T18:13:43.342909",
     "exception": false,
     "start_time": "2024-07-29T18:13:39.823916",
     "status": "completed"
    },
    "tags": []
   },
   "outputs": [],
   "source": [
    "import numpy as np\n",
    "import pandas as pd\n",
    "import seaborn as sns\n",
    "import matplotlib.pyplot as plt\n",
    "from sklearn.metrics import accuracy_score,confusion_matrix,ConfusionMatrixDisplay,f1_score,classification_report\n",
    "from sklearn.model_selection import train_test_split, GridSearchCV\n",
    "from sklearn.utils import resample,shuffle\n",
    "from scipy import stats\n",
    "import pickle\n",
    "from collections import Counter\n",
    "from sklearn.naive_bayes import CategoricalNB\n",
    "from sklearn.ensemble import RandomForestClassifier"
   ]
  },
  {
   "cell_type": "markdown",
   "id": "4a6edb9d",
   "metadata": {
    "papermill": {
     "duration": 0.01023,
     "end_time": "2024-07-29T18:13:43.363745",
     "exception": false,
     "start_time": "2024-07-29T18:13:43.353515",
     "status": "completed"
    },
    "tags": []
   },
   "source": [
    "# Load dataset and print dataframe"
   ]
  },
  {
   "cell_type": "markdown",
   "id": "60dbc8a9",
   "metadata": {
    "papermill": {
     "duration": 0.010059,
     "end_time": "2024-07-29T18:13:43.384635",
     "exception": false,
     "start_time": "2024-07-29T18:13:43.374576",
     "status": "completed"
    },
    "tags": []
   },
   "source": [
    "## Load dataset"
   ]
  },
  {
   "cell_type": "code",
   "execution_count": 2,
   "id": "1077261d",
   "metadata": {
    "execution": {
     "iopub.execute_input": "2024-07-29T18:13:43.407022Z",
     "iopub.status.busy": "2024-07-29T18:13:43.406465Z",
     "iopub.status.idle": "2024-07-29T18:13:43.438366Z",
     "shell.execute_reply": "2024-07-29T18:13:43.437320Z"
    },
    "papermill": {
     "duration": 0.046709,
     "end_time": "2024-07-29T18:13:43.441482",
     "exception": false,
     "start_time": "2024-07-29T18:13:43.394773",
     "status": "completed"
    },
    "tags": []
   },
   "outputs": [],
   "source": [
    "df=pd.read_csv(\"/kaggle/input/wine-quality-binary-classification/wine.csv\")"
   ]
  },
  {
   "cell_type": "markdown",
   "id": "982298af",
   "metadata": {
    "papermill": {
     "duration": 0.01005,
     "end_time": "2024-07-29T18:13:43.462044",
     "exception": false,
     "start_time": "2024-07-29T18:13:43.451994",
     "status": "completed"
    },
    "tags": []
   },
   "source": [
    "## Display dataframe"
   ]
  },
  {
   "cell_type": "code",
   "execution_count": 3,
   "id": "b3f83f7f",
   "metadata": {
    "execution": {
     "iopub.execute_input": "2024-07-29T18:13:43.491852Z",
     "iopub.status.busy": "2024-07-29T18:13:43.490346Z",
     "iopub.status.idle": "2024-07-29T18:13:43.549496Z",
     "shell.execute_reply": "2024-07-29T18:13:43.548302Z"
    },
    "papermill": {
     "duration": 0.077693,
     "end_time": "2024-07-29T18:13:43.552448",
     "exception": false,
     "start_time": "2024-07-29T18:13:43.474755",
     "status": "completed"
    },
    "tags": []
   },
   "outputs": [
    {
     "data": {
      "text/html": [
       "<div>\n",
       "<style scoped>\n",
       "    .dataframe tbody tr th:only-of-type {\n",
       "        vertical-align: middle;\n",
       "    }\n",
       "\n",
       "    .dataframe tbody tr th {\n",
       "        vertical-align: top;\n",
       "    }\n",
       "\n",
       "    .dataframe thead th {\n",
       "        text-align: right;\n",
       "    }\n",
       "</style>\n",
       "<table border=\"1\" class=\"dataframe\">\n",
       "  <thead>\n",
       "    <tr style=\"text-align: right;\">\n",
       "      <th></th>\n",
       "      <th>fixed acidity</th>\n",
       "      <th>volatile acidity</th>\n",
       "      <th>citric acid</th>\n",
       "      <th>residual sugar</th>\n",
       "      <th>chlorides</th>\n",
       "      <th>free sulfur dioxide</th>\n",
       "      <th>total sulfur dioxide</th>\n",
       "      <th>density</th>\n",
       "      <th>pH</th>\n",
       "      <th>sulphates</th>\n",
       "      <th>alcohol</th>\n",
       "      <th>quality</th>\n",
       "    </tr>\n",
       "  </thead>\n",
       "  <tbody>\n",
       "    <tr>\n",
       "      <th>0</th>\n",
       "      <td>7.4</td>\n",
       "      <td>0.700</td>\n",
       "      <td>0.00</td>\n",
       "      <td>1.9</td>\n",
       "      <td>0.076</td>\n",
       "      <td>11.0</td>\n",
       "      <td>34.0</td>\n",
       "      <td>0.99780</td>\n",
       "      <td>3.51</td>\n",
       "      <td>0.56</td>\n",
       "      <td>9.4</td>\n",
       "      <td>bad</td>\n",
       "    </tr>\n",
       "    <tr>\n",
       "      <th>1</th>\n",
       "      <td>7.8</td>\n",
       "      <td>0.880</td>\n",
       "      <td>0.00</td>\n",
       "      <td>2.6</td>\n",
       "      <td>0.098</td>\n",
       "      <td>25.0</td>\n",
       "      <td>67.0</td>\n",
       "      <td>0.99680</td>\n",
       "      <td>3.20</td>\n",
       "      <td>0.68</td>\n",
       "      <td>9.8</td>\n",
       "      <td>bad</td>\n",
       "    </tr>\n",
       "    <tr>\n",
       "      <th>2</th>\n",
       "      <td>7.8</td>\n",
       "      <td>0.760</td>\n",
       "      <td>0.04</td>\n",
       "      <td>2.3</td>\n",
       "      <td>0.092</td>\n",
       "      <td>15.0</td>\n",
       "      <td>54.0</td>\n",
       "      <td>0.99700</td>\n",
       "      <td>3.26</td>\n",
       "      <td>0.65</td>\n",
       "      <td>9.8</td>\n",
       "      <td>bad</td>\n",
       "    </tr>\n",
       "    <tr>\n",
       "      <th>3</th>\n",
       "      <td>11.2</td>\n",
       "      <td>0.280</td>\n",
       "      <td>0.56</td>\n",
       "      <td>1.9</td>\n",
       "      <td>0.075</td>\n",
       "      <td>17.0</td>\n",
       "      <td>60.0</td>\n",
       "      <td>0.99800</td>\n",
       "      <td>3.16</td>\n",
       "      <td>0.58</td>\n",
       "      <td>9.8</td>\n",
       "      <td>good</td>\n",
       "    </tr>\n",
       "    <tr>\n",
       "      <th>4</th>\n",
       "      <td>7.4</td>\n",
       "      <td>0.700</td>\n",
       "      <td>0.00</td>\n",
       "      <td>1.9</td>\n",
       "      <td>0.076</td>\n",
       "      <td>11.0</td>\n",
       "      <td>34.0</td>\n",
       "      <td>0.99780</td>\n",
       "      <td>3.51</td>\n",
       "      <td>0.56</td>\n",
       "      <td>9.4</td>\n",
       "      <td>bad</td>\n",
       "    </tr>\n",
       "    <tr>\n",
       "      <th>...</th>\n",
       "      <td>...</td>\n",
       "      <td>...</td>\n",
       "      <td>...</td>\n",
       "      <td>...</td>\n",
       "      <td>...</td>\n",
       "      <td>...</td>\n",
       "      <td>...</td>\n",
       "      <td>...</td>\n",
       "      <td>...</td>\n",
       "      <td>...</td>\n",
       "      <td>...</td>\n",
       "      <td>...</td>\n",
       "    </tr>\n",
       "    <tr>\n",
       "      <th>1594</th>\n",
       "      <td>6.2</td>\n",
       "      <td>0.600</td>\n",
       "      <td>0.08</td>\n",
       "      <td>2.0</td>\n",
       "      <td>0.090</td>\n",
       "      <td>32.0</td>\n",
       "      <td>44.0</td>\n",
       "      <td>0.99490</td>\n",
       "      <td>3.45</td>\n",
       "      <td>0.58</td>\n",
       "      <td>10.5</td>\n",
       "      <td>bad</td>\n",
       "    </tr>\n",
       "    <tr>\n",
       "      <th>1595</th>\n",
       "      <td>5.9</td>\n",
       "      <td>0.550</td>\n",
       "      <td>0.10</td>\n",
       "      <td>2.2</td>\n",
       "      <td>0.062</td>\n",
       "      <td>39.0</td>\n",
       "      <td>51.0</td>\n",
       "      <td>0.99512</td>\n",
       "      <td>3.52</td>\n",
       "      <td>0.76</td>\n",
       "      <td>11.2</td>\n",
       "      <td>good</td>\n",
       "    </tr>\n",
       "    <tr>\n",
       "      <th>1596</th>\n",
       "      <td>6.3</td>\n",
       "      <td>0.510</td>\n",
       "      <td>0.13</td>\n",
       "      <td>2.3</td>\n",
       "      <td>0.076</td>\n",
       "      <td>29.0</td>\n",
       "      <td>40.0</td>\n",
       "      <td>0.99574</td>\n",
       "      <td>3.42</td>\n",
       "      <td>0.75</td>\n",
       "      <td>11.0</td>\n",
       "      <td>good</td>\n",
       "    </tr>\n",
       "    <tr>\n",
       "      <th>1597</th>\n",
       "      <td>5.9</td>\n",
       "      <td>0.645</td>\n",
       "      <td>0.12</td>\n",
       "      <td>2.0</td>\n",
       "      <td>0.075</td>\n",
       "      <td>32.0</td>\n",
       "      <td>44.0</td>\n",
       "      <td>0.99547</td>\n",
       "      <td>3.57</td>\n",
       "      <td>0.71</td>\n",
       "      <td>10.2</td>\n",
       "      <td>bad</td>\n",
       "    </tr>\n",
       "    <tr>\n",
       "      <th>1598</th>\n",
       "      <td>6.0</td>\n",
       "      <td>0.310</td>\n",
       "      <td>0.47</td>\n",
       "      <td>3.6</td>\n",
       "      <td>0.067</td>\n",
       "      <td>18.0</td>\n",
       "      <td>42.0</td>\n",
       "      <td>0.99549</td>\n",
       "      <td>3.39</td>\n",
       "      <td>0.66</td>\n",
       "      <td>11.0</td>\n",
       "      <td>good</td>\n",
       "    </tr>\n",
       "  </tbody>\n",
       "</table>\n",
       "<p>1599 rows × 12 columns</p>\n",
       "</div>"
      ],
      "text/plain": [
       "      fixed acidity  volatile acidity  citric acid  residual sugar  chlorides  \\\n",
       "0               7.4             0.700         0.00             1.9      0.076   \n",
       "1               7.8             0.880         0.00             2.6      0.098   \n",
       "2               7.8             0.760         0.04             2.3      0.092   \n",
       "3              11.2             0.280         0.56             1.9      0.075   \n",
       "4               7.4             0.700         0.00             1.9      0.076   \n",
       "...             ...               ...          ...             ...        ...   \n",
       "1594            6.2             0.600         0.08             2.0      0.090   \n",
       "1595            5.9             0.550         0.10             2.2      0.062   \n",
       "1596            6.3             0.510         0.13             2.3      0.076   \n",
       "1597            5.9             0.645         0.12             2.0      0.075   \n",
       "1598            6.0             0.310         0.47             3.6      0.067   \n",
       "\n",
       "      free sulfur dioxide  total sulfur dioxide  density    pH  sulphates  \\\n",
       "0                    11.0                  34.0  0.99780  3.51       0.56   \n",
       "1                    25.0                  67.0  0.99680  3.20       0.68   \n",
       "2                    15.0                  54.0  0.99700  3.26       0.65   \n",
       "3                    17.0                  60.0  0.99800  3.16       0.58   \n",
       "4                    11.0                  34.0  0.99780  3.51       0.56   \n",
       "...                   ...                   ...      ...   ...        ...   \n",
       "1594                 32.0                  44.0  0.99490  3.45       0.58   \n",
       "1595                 39.0                  51.0  0.99512  3.52       0.76   \n",
       "1596                 29.0                  40.0  0.99574  3.42       0.75   \n",
       "1597                 32.0                  44.0  0.99547  3.57       0.71   \n",
       "1598                 18.0                  42.0  0.99549  3.39       0.66   \n",
       "\n",
       "      alcohol quality  \n",
       "0         9.4     bad  \n",
       "1         9.8     bad  \n",
       "2         9.8     bad  \n",
       "3         9.8    good  \n",
       "4         9.4     bad  \n",
       "...       ...     ...  \n",
       "1594     10.5     bad  \n",
       "1595     11.2    good  \n",
       "1596     11.0    good  \n",
       "1597     10.2     bad  \n",
       "1598     11.0    good  \n",
       "\n",
       "[1599 rows x 12 columns]"
      ]
     },
     "execution_count": 3,
     "metadata": {},
     "output_type": "execute_result"
    }
   ],
   "source": [
    "df"
   ]
  },
  {
   "cell_type": "markdown",
   "id": "f5ca54cd",
   "metadata": {
    "papermill": {
     "duration": 0.01156,
     "end_time": "2024-07-29T18:13:43.574909",
     "exception": false,
     "start_time": "2024-07-29T18:13:43.563349",
     "status": "completed"
    },
    "tags": []
   },
   "source": [
    "## Get features"
   ]
  },
  {
   "cell_type": "code",
   "execution_count": 4,
   "id": "b7a189c5",
   "metadata": {
    "execution": {
     "iopub.execute_input": "2024-07-29T18:13:43.599167Z",
     "iopub.status.busy": "2024-07-29T18:13:43.597960Z",
     "iopub.status.idle": "2024-07-29T18:13:43.625423Z",
     "shell.execute_reply": "2024-07-29T18:13:43.623939Z"
    },
    "papermill": {
     "duration": 0.043297,
     "end_time": "2024-07-29T18:13:43.629045",
     "exception": false,
     "start_time": "2024-07-29T18:13:43.585748",
     "status": "completed"
    },
    "tags": []
   },
   "outputs": [
    {
     "name": "stdout",
     "output_type": "stream",
     "text": [
      "<class 'pandas.core.frame.DataFrame'>\n",
      "RangeIndex: 1599 entries, 0 to 1598\n",
      "Data columns (total 12 columns):\n",
      " #   Column                Non-Null Count  Dtype  \n",
      "---  ------                --------------  -----  \n",
      " 0   fixed acidity         1599 non-null   float64\n",
      " 1   volatile acidity      1599 non-null   float64\n",
      " 2   citric acid           1599 non-null   float64\n",
      " 3   residual sugar        1599 non-null   float64\n",
      " 4   chlorides             1599 non-null   float64\n",
      " 5   free sulfur dioxide   1599 non-null   float64\n",
      " 6   total sulfur dioxide  1599 non-null   float64\n",
      " 7   density               1599 non-null   float64\n",
      " 8   pH                    1599 non-null   float64\n",
      " 9   sulphates             1599 non-null   float64\n",
      " 10  alcohol               1599 non-null   float64\n",
      " 11  quality               1599 non-null   object \n",
      "dtypes: float64(11), object(1)\n",
      "memory usage: 150.0+ KB\n"
     ]
    }
   ],
   "source": [
    "df.info()"
   ]
  },
  {
   "cell_type": "markdown",
   "id": "78cb0043",
   "metadata": {
    "papermill": {
     "duration": 0.01059,
     "end_time": "2024-07-29T18:13:43.651192",
     "exception": false,
     "start_time": "2024-07-29T18:13:43.640602",
     "status": "completed"
    },
    "tags": []
   },
   "source": [
    "## Separate features and classification label"
   ]
  },
  {
   "cell_type": "code",
   "execution_count": 5,
   "id": "7f495e3b",
   "metadata": {
    "execution": {
     "iopub.execute_input": "2024-07-29T18:13:43.675547Z",
     "iopub.status.busy": "2024-07-29T18:13:43.675071Z",
     "iopub.status.idle": "2024-07-29T18:13:43.683772Z",
     "shell.execute_reply": "2024-07-29T18:13:43.682052Z"
    },
    "papermill": {
     "duration": 0.024424,
     "end_time": "2024-07-29T18:13:43.687042",
     "exception": false,
     "start_time": "2024-07-29T18:13:43.662618",
     "status": "completed"
    },
    "tags": []
   },
   "outputs": [],
   "source": [
    "X=df.iloc[:,:-1] # Features\n",
    "Y=df.iloc[:,-1] # Labels"
   ]
  },
  {
   "cell_type": "markdown",
   "id": "417ccbaa",
   "metadata": {
    "papermill": {
     "duration": 0.016379,
     "end_time": "2024-07-29T18:13:43.719139",
     "exception": false,
     "start_time": "2024-07-29T18:13:43.702760",
     "status": "completed"
    },
    "tags": []
   },
   "source": [
    "## Labels"
   ]
  },
  {
   "cell_type": "code",
   "execution_count": 6,
   "id": "09e9bab0",
   "metadata": {
    "execution": {
     "iopub.execute_input": "2024-07-29T18:13:43.751485Z",
     "iopub.status.busy": "2024-07-29T18:13:43.750862Z",
     "iopub.status.idle": "2024-07-29T18:13:43.757906Z",
     "shell.execute_reply": "2024-07-29T18:13:43.756638Z"
    },
    "papermill": {
     "duration": 0.026382,
     "end_time": "2024-07-29T18:13:43.761323",
     "exception": false,
     "start_time": "2024-07-29T18:13:43.734941",
     "status": "completed"
    },
    "tags": []
   },
   "outputs": [],
   "source": [
    "classes = ['good','bad']"
   ]
  },
  {
   "cell_type": "markdown",
   "id": "23912e2e",
   "metadata": {
    "papermill": {
     "duration": 0.011566,
     "end_time": "2024-07-29T18:13:43.786574",
     "exception": false,
     "start_time": "2024-07-29T18:13:43.775008",
     "status": "completed"
    },
    "tags": []
   },
   "source": [
    "## Checking dataset balance"
   ]
  },
  {
   "cell_type": "code",
   "execution_count": 7,
   "id": "f750699f",
   "metadata": {
    "execution": {
     "iopub.execute_input": "2024-07-29T18:13:43.819612Z",
     "iopub.status.busy": "2024-07-29T18:13:43.818244Z",
     "iopub.status.idle": "2024-07-29T18:13:44.086480Z",
     "shell.execute_reply": "2024-07-29T18:13:44.085245Z"
    },
    "papermill": {
     "duration": 0.286728,
     "end_time": "2024-07-29T18:13:44.089407",
     "exception": false,
     "start_time": "2024-07-29T18:13:43.802679",
     "status": "completed"
    },
    "tags": []
   },
   "outputs": [
    {
     "data": {
      "image/png": "[encoded data removed]",
      "text/plain": [
       "<Figure size 2000x1000 with 1 Axes>"
      ]
     },
     "metadata": {},
     "output_type": "display_data"
    }
   ],
   "source": [
    "## Data repartition per class\n",
    "per_class = df.iloc[:,-1].value_counts()\n",
    "plt.figure(figsize=(20,10))\n",
    "my_circle=plt.Circle( (0,0), 0.7, color='white')\n",
    "plt.pie(per_class, labels= classes, colors=['tab:blue','tab:orange'],autopct='%1.1f%%')\n",
    "p=plt.gcf()\n",
    "p.gca().add_artist(my_circle)\n",
    "plt.show()"
   ]
  },
  {
   "cell_type": "markdown",
   "id": "c6a2a985",
   "metadata": {
    "papermill": {
     "duration": 0.011261,
     "end_time": "2024-07-29T18:13:44.112557",
     "exception": false,
     "start_time": "2024-07-29T18:13:44.101296",
     "status": "completed"
    },
    "tags": []
   },
   "source": [
    "# Data preprocessing"
   ]
  },
  {
   "cell_type": "markdown",
   "id": "5040b779",
   "metadata": {
    "papermill": {
     "duration": 0.014968,
     "end_time": "2024-07-29T18:13:44.139326",
     "exception": false,
     "start_time": "2024-07-29T18:13:44.124358",
     "status": "completed"
    },
    "tags": []
   },
   "source": [
    "## Train and test dataset split"
   ]
  },
  {
   "cell_type": "code",
   "execution_count": 8,
   "id": "4cbcbcd1",
   "metadata": {
    "execution": {
     "iopub.execute_input": "2024-07-29T18:13:44.169160Z",
     "iopub.status.busy": "2024-07-29T18:13:44.168710Z",
     "iopub.status.idle": "2024-07-29T18:13:44.178653Z",
     "shell.execute_reply": "2024-07-29T18:13:44.177529Z"
    },
    "papermill": {
     "duration": 0.027575,
     "end_time": "2024-07-29T18:13:44.181191",
     "exception": false,
     "start_time": "2024-07-29T18:13:44.153616",
     "status": "completed"
    },
    "tags": []
   },
   "outputs": [],
   "source": [
    "X_train, X_test, y_train, y_test = train_test_split(X, Y, test_size = 0.2, random_state = 42)"
   ]
  },
  {
   "cell_type": "markdown",
   "id": "76f19e69",
   "metadata": {
    "papermill": {
     "duration": 0.012239,
     "end_time": "2024-07-29T18:13:44.205214",
     "exception": false,
     "start_time": "2024-07-29T18:13:44.192975",
     "status": "completed"
    },
    "tags": []
   },
   "source": []
  },
  {
   "cell_type": "markdown",
   "id": "c7d25333",
   "metadata": {
    "papermill": {
     "duration": 0.011224,
     "end_time": "2024-07-29T18:13:44.229350",
     "exception": false,
     "start_time": "2024-07-29T18:13:44.218126",
     "status": "completed"
    },
    "tags": []
   },
   "source": [
    "# Model training"
   ]
  },
  {
   "cell_type": "markdown",
   "id": "ef644672",
   "metadata": {
    "papermill": {
     "duration": 0.01145,
     "end_time": "2024-07-29T18:13:44.252292",
     "exception": false,
     "start_time": "2024-07-29T18:13:44.240842",
     "status": "completed"
    },
    "tags": []
   },
   "source": [
    "### Random Forest"
   ]
  },
  {
   "cell_type": "markdown",
   "id": "16c1ddc8",
   "metadata": {
    "papermill": {
     "duration": 0.011289,
     "end_time": "2024-07-29T18:13:44.275245",
     "exception": false,
     "start_time": "2024-07-29T18:13:44.263956",
     "status": "completed"
    },
    "tags": []
   },
   "source": [
    "#### Initialize model"
   ]
  },
  {
   "cell_type": "code",
   "execution_count": 9,
   "id": "a34d91f8",
   "metadata": {
    "execution": {
     "iopub.execute_input": "2024-07-29T18:13:44.301277Z",
     "iopub.status.busy": "2024-07-29T18:13:44.300856Z",
     "iopub.status.idle": "2024-07-29T18:13:44.306697Z",
     "shell.execute_reply": "2024-07-29T18:13:44.305447Z"
    },
    "papermill": {
     "duration": 0.022095,
     "end_time": "2024-07-29T18:13:44.309436",
     "exception": false,
     "start_time": "2024-07-29T18:13:44.287341",
     "status": "completed"
    },
    "tags": []
   },
   "outputs": [],
   "source": [
    "rf = RandomForestClassifier(class_weight='balanced')"
   ]
  },
  {
   "cell_type": "markdown",
   "id": "db372b64",
   "metadata": {
    "papermill": {
     "duration": 0.011957,
     "end_time": "2024-07-29T18:13:44.333157",
     "exception": false,
     "start_time": "2024-07-29T18:13:44.321200",
     "status": "completed"
    },
    "tags": []
   },
   "source": [
    "#### Train and evaluate model"
   ]
  },
  {
   "cell_type": "code",
   "execution_count": 10,
   "id": "6d7fc90c",
   "metadata": {
    "execution": {
     "iopub.execute_input": "2024-07-29T18:13:44.358807Z",
     "iopub.status.busy": "2024-07-29T18:13:44.358362Z",
     "iopub.status.idle": "2024-07-29T18:13:44.849912Z",
     "shell.execute_reply": "2024-07-29T18:13:44.848566Z"
    },
    "papermill": {
     "duration": 0.507586,
     "end_time": "2024-07-29T18:13:44.852859",
     "exception": false,
     "start_time": "2024-07-29T18:13:44.345273",
     "status": "completed"
    },
    "tags": []
   },
   "outputs": [
    {
     "name": "stdout",
     "output_type": "stream",
     "text": [
      "Accuracy : 0.80625 \n",
      "F1 Score : 0.8064037698412699 \n"
     ]
    }
   ],
   "source": [
    "y_pred = rf.fit(X_train, y_train).predict(X_test)\n",
    "with open('random_forest.pkl','wb') as f:\n",
    "    pickle.dump(rf,f)\n",
    "    acc=accuracy_score(y_test,y_pred)\n",
    "    print(\"Accuracy : {} \".format(acc))\n",
    "    f1 = f1_score(y_pred, y_test, average=\"weighted\")\n",
    "    print(\"F1 Score : {} \".format(f1))"
   ]
  },
  {
   "cell_type": "markdown",
   "id": "f412ee3c",
   "metadata": {
    "papermill": {
     "duration": 0.011545,
     "end_time": "2024-07-29T18:13:44.876159",
     "exception": false,
     "start_time": "2024-07-29T18:13:44.864614",
     "status": "completed"
    },
    "tags": []
   },
   "source": [
    "#### Confusion matrix"
   ]
  },
  {
   "cell_type": "code",
   "execution_count": 11,
   "id": "2a2d4b32",
   "metadata": {
    "execution": {
     "iopub.execute_input": "2024-07-29T18:13:44.901510Z",
     "iopub.status.busy": "2024-07-29T18:13:44.901062Z",
     "iopub.status.idle": "2024-07-29T18:13:45.240686Z",
     "shell.execute_reply": "2024-07-29T18:13:45.239450Z"
    },
    "papermill": {
     "duration": 0.356151,
     "end_time": "2024-07-29T18:13:45.244059",
     "exception": false,
     "start_time": "2024-07-29T18:13:44.887908",
     "status": "completed"
    },
    "tags": []
   },
   "outputs": [
    {
     "data": {
      "text/plain": [
       "<sklearn.metrics._plot.confusion_matrix.ConfusionMatrixDisplay at 0x7b95b9c89d50>"
      ]
     },
     "execution_count": 11,
     "metadata": {},
     "output_type": "execute_result"
    },
    {
     "data": {
      "image/png": "[encoded data removed]",
      "text/plain": [
       "<Figure size 640x480 with 2 Axes>"
      ]
     },
     "metadata": {},
     "output_type": "display_data"
    }
   ],
   "source": [
    "cm = confusion_matrix(y_test, y_pred, labels=classes)\n",
    "disp = ConfusionMatrixDisplay(confusion_matrix=cm, display_labels=classes)\n",
    "disp.plot(cmap=plt.cm.Blues)"
   ]
  },
  {
   "cell_type": "markdown",
   "id": "9cfa101c",
   "metadata": {
    "papermill": {
     "duration": 0.012398,
     "end_time": "2024-07-29T18:13:45.269076",
     "exception": false,
     "start_time": "2024-07-29T18:13:45.256678",
     "status": "completed"
    },
    "tags": []
   },
   "source": [
    "#### Classification report"
   ]
  },
  {
   "cell_type": "code",
   "execution_count": 12,
   "id": "942bfca5",
   "metadata": {
    "execution": {
     "iopub.execute_input": "2024-07-29T18:13:45.296496Z",
     "iopub.status.busy": "2024-07-29T18:13:45.296027Z",
     "iopub.status.idle": "2024-07-29T18:13:45.463765Z",
     "shell.execute_reply": "2024-07-29T18:13:45.462514Z"
    },
    "papermill": {
     "duration": 0.18467,
     "end_time": "2024-07-29T18:13:45.466790",
     "exception": false,
     "start_time": "2024-07-29T18:13:45.282120",
     "status": "completed"
    },
    "tags": []
   },
   "outputs": [
    {
     "data": {
      "text/html": [
       "<style type=\"text/css\">\n",
       "#T_563ee_row0_col0, #T_563ee_row0_col1, #T_563ee_row0_col2, #T_563ee_row2_col3 {\n",
       "  background-color: #440154;\n",
       "  color: #f1f1f1;\n",
       "}\n",
       "#T_563ee_row0_col3 {\n",
       "  background-color: #26818e;\n",
       "  color: #f1f1f1;\n",
       "}\n",
       "#T_563ee_row1_col0, #T_563ee_row1_col1, #T_563ee_row1_col2, #T_563ee_row3_col3, #T_563ee_row4_col3 {\n",
       "  background-color: #fde725;\n",
       "  color: #000000;\n",
       "}\n",
       "#T_563ee_row1_col3, #T_563ee_row2_col1, #T_563ee_row4_col0, #T_563ee_row4_col1, #T_563ee_row4_col2 {\n",
       "  background-color: #1fa088;\n",
       "  color: #f1f1f1;\n",
       "}\n",
       "#T_563ee_row2_col0, #T_563ee_row2_col2 {\n",
       "  background-color: #1f9f88;\n",
       "  color: #f1f1f1;\n",
       "}\n",
       "#T_563ee_row3_col0, #T_563ee_row3_col1, #T_563ee_row3_col2 {\n",
       "  background-color: #21918c;\n",
       "  color: #f1f1f1;\n",
       "}\n",
       "</style>\n",
       "<table id=\"T_563ee\">\n",
       "  <thead>\n",
       "    <tr>\n",
       "      <th class=\"blank level0\" >&nbsp;</th>\n",
       "      <th id=\"T_563ee_level0_col0\" class=\"col_heading level0 col0\" >precision</th>\n",
       "      <th id=\"T_563ee_level0_col1\" class=\"col_heading level0 col1\" >recall</th>\n",
       "      <th id=\"T_563ee_level0_col2\" class=\"col_heading level0 col2\" >f1-score</th>\n",
       "      <th id=\"T_563ee_level0_col3\" class=\"col_heading level0 col3\" >support</th>\n",
       "    </tr>\n",
       "  </thead>\n",
       "  <tbody>\n",
       "    <tr>\n",
       "      <th id=\"T_563ee_level0_row0\" class=\"row_heading level0 row0\" >bad</th>\n",
       "      <td id=\"T_563ee_row0_col0\" class=\"data row0 col0\" >0.773050</td>\n",
       "      <td id=\"T_563ee_row0_col1\" class=\"data row0 col1\" >0.784173</td>\n",
       "      <td id=\"T_563ee_row0_col2\" class=\"data row0 col2\" >0.778571</td>\n",
       "      <td id=\"T_563ee_row0_col3\" class=\"data row0 col3\" >139</td>\n",
       "    </tr>\n",
       "    <tr>\n",
       "      <th id=\"T_563ee_level0_row1\" class=\"row_heading level0 row1\" >good</th>\n",
       "      <td id=\"T_563ee_row1_col0\" class=\"data row1 col0\" >0.832402</td>\n",
       "      <td id=\"T_563ee_row1_col1\" class=\"data row1 col1\" >0.823204</td>\n",
       "      <td id=\"T_563ee_row1_col2\" class=\"data row1 col2\" >0.827778</td>\n",
       "      <td id=\"T_563ee_row1_col3\" class=\"data row1 col3\" >181</td>\n",
       "    </tr>\n",
       "    <tr>\n",
       "      <th id=\"T_563ee_level0_row2\" class=\"row_heading level0 row2\" >accuracy</th>\n",
       "      <td id=\"T_563ee_row2_col0\" class=\"data row2 col0\" >0.806250</td>\n",
       "      <td id=\"T_563ee_row2_col1\" class=\"data row2 col1\" >0.806250</td>\n",
       "      <td id=\"T_563ee_row2_col2\" class=\"data row2 col2\" >0.806250</td>\n",
       "      <td id=\"T_563ee_row2_col3\" class=\"data row2 col3\" >0</td>\n",
       "    </tr>\n",
       "    <tr>\n",
       "      <th id=\"T_563ee_level0_row3\" class=\"row_heading level0 row3\" >macro avg</th>\n",
       "      <td id=\"T_563ee_row3_col0\" class=\"data row3 col0\" >0.802726</td>\n",
       "      <td id=\"T_563ee_row3_col1\" class=\"data row3 col1\" >0.803689</td>\n",
       "      <td id=\"T_563ee_row3_col2\" class=\"data row3 col2\" >0.803175</td>\n",
       "      <td id=\"T_563ee_row3_col3\" class=\"data row3 col3\" >320</td>\n",
       "    </tr>\n",
       "    <tr>\n",
       "      <th id=\"T_563ee_level0_row4\" class=\"row_heading level0 row4\" >weighted avg</th>\n",
       "      <td id=\"T_563ee_row4_col0\" class=\"data row4 col0\" >0.806621</td>\n",
       "      <td id=\"T_563ee_row4_col1\" class=\"data row4 col1\" >0.806250</td>\n",
       "      <td id=\"T_563ee_row4_col2\" class=\"data row4 col2\" >0.806404</td>\n",
       "      <td id=\"T_563ee_row4_col3\" class=\"data row4 col3\" >320</td>\n",
       "    </tr>\n",
       "  </tbody>\n",
       "</table>\n"
      ],
      "text/plain": [
       "<pandas.io.formats.style.Styler at 0x7b95b9c8b400>"
      ]
     },
     "execution_count": 12,
     "metadata": {},
     "output_type": "execute_result"
    }
   ],
   "source": [
    "df_class = pd.DataFrame(classification_report(y_pred, y_test, digits=2,output_dict=True)).T\n",
    "df_class['support'] = df_class.support.apply(int)\n",
    "df_class.rename(index={'0':'good', '1':'bad'}, inplace=True)\n",
    "df_= df_class\n",
    "df_.style.background_gradient(cmap='viridis')"
   ]
  },
  {
   "cell_type": "markdown",
   "id": "2a6969ea",
   "metadata": {
    "papermill": {
     "duration": 0.012348,
     "end_time": "2024-07-29T18:13:45.491850",
     "exception": false,
     "start_time": "2024-07-29T18:13:45.479502",
     "status": "completed"
    },
    "tags": []
   },
   "source": [
    "## Naise bayes"
   ]
  },
  {
   "cell_type": "markdown",
   "id": "08f86486",
   "metadata": {
    "papermill": {
     "duration": 0.012195,
     "end_time": "2024-07-29T18:13:45.516632",
     "exception": false,
     "start_time": "2024-07-29T18:13:45.504437",
     "status": "completed"
    },
    "tags": []
   },
   "source": [
    "#### Initialize model"
   ]
  },
  {
   "cell_type": "code",
   "execution_count": 13,
   "id": "20a9664c",
   "metadata": {
    "execution": {
     "iopub.execute_input": "2024-07-29T18:13:45.546511Z",
     "iopub.status.busy": "2024-07-29T18:13:45.545519Z",
     "iopub.status.idle": "2024-07-29T18:13:45.551538Z",
     "shell.execute_reply": "2024-07-29T18:13:45.550301Z"
    },
    "papermill": {
     "duration": 0.023101,
     "end_time": "2024-07-29T18:13:45.554247",
     "exception": false,
     "start_time": "2024-07-29T18:13:45.531146",
     "status": "completed"
    },
    "tags": []
   },
   "outputs": [],
   "source": [
    "gnb = CategoricalNB()"
   ]
  },
  {
   "cell_type": "markdown",
   "id": "618c78f6",
   "metadata": {
    "papermill": {
     "duration": 0.013107,
     "end_time": "2024-07-29T18:13:45.580372",
     "exception": false,
     "start_time": "2024-07-29T18:13:45.567265",
     "status": "completed"
    },
    "tags": []
   },
   "source": [
    "#### Train and evaluate model"
   ]
  },
  {
   "cell_type": "code",
   "execution_count": 14,
   "id": "6fb66fc5",
   "metadata": {
    "execution": {
     "iopub.execute_input": "2024-07-29T18:13:45.607581Z",
     "iopub.status.busy": "2024-07-29T18:13:45.607125Z",
     "iopub.status.idle": "2024-07-29T18:13:46.084170Z",
     "shell.execute_reply": "2024-07-29T18:13:46.082718Z"
    },
    "papermill": {
     "duration": 0.494307,
     "end_time": "2024-07-29T18:13:46.087224",
     "exception": false,
     "start_time": "2024-07-29T18:13:45.592917",
     "status": "completed"
    },
    "tags": []
   },
   "outputs": [
    {
     "name": "stdout",
     "output_type": "stream",
     "text": [
      "Accuracy : 0.784375 \n",
      "F1 Score : 0.7848360533460632 \n"
     ]
    }
   ],
   "source": [
    "y_pred = rf.fit(X_train, y_train).predict(X_test)\n",
    "with open('gnb.pkl','wb') as f:\n",
    "    pickle.dump(gnb,f)\n",
    "    acc=accuracy_score(y_test,y_pred)\n",
    "    print(\"Accuracy : {} \".format(acc))\n",
    "    f1 = f1_score(y_pred, y_test, average=\"weighted\")\n",
    "    print(\"F1 Score : {} \".format(f1))"
   ]
  },
  {
   "cell_type": "markdown",
   "id": "69e5a248",
   "metadata": {
    "papermill": {
     "duration": 0.012258,
     "end_time": "2024-07-29T18:13:46.112294",
     "exception": false,
     "start_time": "2024-07-29T18:13:46.100036",
     "status": "completed"
    },
    "tags": []
   },
   "source": [
    "#### Confusion matrix"
   ]
  },
  {
   "cell_type": "code",
   "execution_count": 15,
   "id": "bbf83716",
   "metadata": {
    "execution": {
     "iopub.execute_input": "2024-07-29T18:13:46.139716Z",
     "iopub.status.busy": "2024-07-29T18:13:46.139216Z",
     "iopub.status.idle": "2024-07-29T18:13:46.470212Z",
     "shell.execute_reply": "2024-07-29T18:13:46.468882Z"
    },
    "papermill": {
     "duration": 0.347871,
     "end_time": "2024-07-29T18:13:46.472898",
     "exception": false,
     "start_time": "2024-07-29T18:13:46.125027",
     "status": "completed"
    },
    "tags": []
   },
   "outputs": [
    {
     "data": {
      "text/plain": [
       "<sklearn.metrics._plot.confusion_matrix.ConfusionMatrixDisplay at 0x7b9599935420>"
      ]
     },
     "execution_count": 15,
     "metadata": {},
     "output_type": "execute_result"
    },
    {
     "data": {
      "image/png": "[encoded data removed]",
      "text/plain": [
       "<Figure size 640x480 with 2 Axes>"
      ]
     },
     "metadata": {},
     "output_type": "display_data"
    }
   ],
   "source": [
    "cm = confusion_matrix(y_test, y_pred, labels=classes)\n",
    "disp = ConfusionMatrixDisplay(confusion_matrix=cm, display_labels=classes)\n",
    "disp.plot(cmap=plt.cm.Blues)"
   ]
  },
  {
   "cell_type": "markdown",
   "id": "b69b7863",
   "metadata": {
    "papermill": {
     "duration": 0.013617,
     "end_time": "2024-07-29T18:13:46.500181",
     "exception": false,
     "start_time": "2024-07-29T18:13:46.486564",
     "status": "completed"
    },
    "tags": []
   },
   "source": [
    "#### Classification report"
   ]
  },
  {
   "cell_type": "code",
   "execution_count": 16,
   "id": "252786b9",
   "metadata": {
    "execution": {
     "iopub.execute_input": "2024-07-29T18:13:46.530925Z",
     "iopub.status.busy": "2024-07-29T18:13:46.530252Z",
     "iopub.status.idle": "2024-07-29T18:13:46.579950Z",
     "shell.execute_reply": "2024-07-29T18:13:46.578382Z"
    },
    "papermill": {
     "duration": 0.068854,
     "end_time": "2024-07-29T18:13:46.582848",
     "exception": false,
     "start_time": "2024-07-29T18:13:46.513994",
     "status": "completed"
    },
    "tags": []
   },
   "outputs": [
    {
     "data": {
      "text/html": [
       "<style type=\"text/css\">\n",
       "#T_cd10a_row0_col0, #T_cd10a_row0_col1, #T_cd10a_row0_col2, #T_cd10a_row2_col3 {\n",
       "  background-color: #440154;\n",
       "  color: #f1f1f1;\n",
       "}\n",
       "#T_cd10a_row0_col3 {\n",
       "  background-color: #277e8e;\n",
       "  color: #f1f1f1;\n",
       "}\n",
       "#T_cd10a_row1_col0, #T_cd10a_row1_col1, #T_cd10a_row1_col2, #T_cd10a_row3_col3, #T_cd10a_row4_col3 {\n",
       "  background-color: #fde725;\n",
       "  color: #000000;\n",
       "}\n",
       "#T_cd10a_row1_col3, #T_cd10a_row2_col1, #T_cd10a_row4_col0, #T_cd10a_row4_col1, #T_cd10a_row4_col2 {\n",
       "  background-color: #1fa287;\n",
       "  color: #f1f1f1;\n",
       "}\n",
       "#T_cd10a_row2_col0 {\n",
       "  background-color: #1f9f88;\n",
       "  color: #f1f1f1;\n",
       "}\n",
       "#T_cd10a_row2_col2 {\n",
       "  background-color: #1fa188;\n",
       "  color: #f1f1f1;\n",
       "}\n",
       "#T_cd10a_row3_col0, #T_cd10a_row3_col2 {\n",
       "  background-color: #21918c;\n",
       "  color: #f1f1f1;\n",
       "}\n",
       "#T_cd10a_row3_col1 {\n",
       "  background-color: #21908d;\n",
       "  color: #f1f1f1;\n",
       "}\n",
       "</style>\n",
       "<table id=\"T_cd10a\">\n",
       "  <thead>\n",
       "    <tr>\n",
       "      <th class=\"blank level0\" >&nbsp;</th>\n",
       "      <th id=\"T_cd10a_level0_col0\" class=\"col_heading level0 col0\" >precision</th>\n",
       "      <th id=\"T_cd10a_level0_col1\" class=\"col_heading level0 col1\" >recall</th>\n",
       "      <th id=\"T_cd10a_level0_col2\" class=\"col_heading level0 col2\" >f1-score</th>\n",
       "      <th id=\"T_cd10a_level0_col3\" class=\"col_heading level0 col3\" >support</th>\n",
       "    </tr>\n",
       "  </thead>\n",
       "  <tbody>\n",
       "    <tr>\n",
       "      <th id=\"T_cd10a_level0_row0\" class=\"row_heading level0 row0\" >bad</th>\n",
       "      <td id=\"T_cd10a_row0_col0\" class=\"data row0 col0\" >0.737589</td>\n",
       "      <td id=\"T_cd10a_row0_col1\" class=\"data row0 col1\" >0.764706</td>\n",
       "      <td id=\"T_cd10a_row0_col2\" class=\"data row0 col2\" >0.750903</td>\n",
       "      <td id=\"T_cd10a_row0_col3\" class=\"data row0 col3\" >136</td>\n",
       "    </tr>\n",
       "    <tr>\n",
       "      <th id=\"T_cd10a_level0_row1\" class=\"row_heading level0 row1\" >good</th>\n",
       "      <td id=\"T_cd10a_row1_col0\" class=\"data row1 col0\" >0.821229</td>\n",
       "      <td id=\"T_cd10a_row1_col1\" class=\"data row1 col1\" >0.798913</td>\n",
       "      <td id=\"T_cd10a_row1_col2\" class=\"data row1 col2\" >0.809917</td>\n",
       "      <td id=\"T_cd10a_row1_col3\" class=\"data row1 col3\" >184</td>\n",
       "    </tr>\n",
       "    <tr>\n",
       "      <th id=\"T_cd10a_level0_row2\" class=\"row_heading level0 row2\" >accuracy</th>\n",
       "      <td id=\"T_cd10a_row2_col0\" class=\"data row2 col0\" >0.784375</td>\n",
       "      <td id=\"T_cd10a_row2_col1\" class=\"data row2 col1\" >0.784375</td>\n",
       "      <td id=\"T_cd10a_row2_col2\" class=\"data row2 col2\" >0.784375</td>\n",
       "      <td id=\"T_cd10a_row2_col3\" class=\"data row2 col3\" >0</td>\n",
       "    </tr>\n",
       "    <tr>\n",
       "      <th id=\"T_cd10a_level0_row3\" class=\"row_heading level0 row3\" >macro avg</th>\n",
       "      <td id=\"T_cd10a_row3_col0\" class=\"data row3 col0\" >0.779409</td>\n",
       "      <td id=\"T_cd10a_row3_col1\" class=\"data row3 col1\" >0.781809</td>\n",
       "      <td id=\"T_cd10a_row3_col2\" class=\"data row3 col2\" >0.780410</td>\n",
       "      <td id=\"T_cd10a_row3_col3\" class=\"data row3 col3\" >320</td>\n",
       "    </tr>\n",
       "    <tr>\n",
       "      <th id=\"T_cd10a_level0_row4\" class=\"row_heading level0 row4\" >weighted avg</th>\n",
       "      <td id=\"T_cd10a_row4_col0\" class=\"data row4 col0\" >0.785682</td>\n",
       "      <td id=\"T_cd10a_row4_col1\" class=\"data row4 col1\" >0.784375</td>\n",
       "      <td id=\"T_cd10a_row4_col2\" class=\"data row4 col2\" >0.784836</td>\n",
       "      <td id=\"T_cd10a_row4_col3\" class=\"data row4 col3\" >320</td>\n",
       "    </tr>\n",
       "  </tbody>\n",
       "</table>\n"
      ],
      "text/plain": [
       "<pandas.io.formats.style.Styler at 0x7b959787be50>"
      ]
     },
     "execution_count": 16,
     "metadata": {},
     "output_type": "execute_result"
    }
   ],
   "source": [
    "df_class = pd.DataFrame(classification_report(y_pred, y_test, digits=2,output_dict=True)).T\n",
    "df_class['support'] = df_class.support.apply(int)\n",
    "df_class.rename(index={'0':'good', '1':'bad'}, inplace=True)\n",
    "df_= df_class\n",
    "df_.style.background_gradient(cmap='viridis')"
   ]
  }
 ],
 "metadata": {
  "kaggle": {
   "accelerator": "none",
   "dataSources": [
    {
     "datasetId": 794161,
     "sourceId": 1363233,
     "sourceType": "datasetVersion"
    }
   ],
   "dockerImageVersionId": 30746,
   "isGpuEnabled": false,
   "isInternetEnabled": true,
   "language": "python",
   "sourceType": "notebook"
  },
  "kernelspec": {
   "display_name": "Python 3",
   "language": "python",
   "name": "python3"
  },
  "language_info": {
   "codemirror_mode": {
    "name": "ipython",
    "version": 3
   },
   "file_extension": ".py",
   "mimetype": "text/x-python",
   "name": "python",
   "nbconvert_exporter": "python",
   "pygments_lexer": "ipython3",
   "version": "3.10.13"
  },
  "papermill": {
   "default_parameters": {},
   "duration": 11.296974,
   "end_time": "2024-07-29T18:13:47.321363",
   "environment_variables": {},
   "exception": null,
   "input_path": "__notebook__.ipynb",
   "output_path": "__notebook__.ipynb",
   "parameters": {},
   "start_time": "2024-07-29T18:13:36.024389",
   "version": "2.5.0"
  }
 },
 "nbformat": 4,
 "nbformat_minor": 5
}
